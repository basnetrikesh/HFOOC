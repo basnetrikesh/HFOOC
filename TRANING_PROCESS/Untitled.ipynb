{
 "cells": [
  {
   "cell_type": "code",
   "execution_count": 1,
   "metadata": {},
   "outputs": [],
   "source": [
    "import numpy as np\n",
    "import pandas as pd\n",
    "import matplotlib.pyplot as plt\n",
    "from tensorflow.keras.layers import Input, Activation, Conv2D, Flatten, Dense, MaxPooling2D,Dropout\n",
    "from tensorflow.keras.models import Model, load_model\n",
    "from tensorflow.keras.models import Sequential\n",
    "from tensorflow.keras.preprocessing.image import ImageDataGenerator\n",
    "from tensorflow.keras.callbacks import ModelCheckpoint, ReduceLROnPlateau\n",
    "plt.style.use('dark_background')"
   ]
  },
  {
   "cell_type": "markdown",
   "metadata": {},
   "source": [
    "# DATA PREPARATION"
   ]
  },
  {
   "cell_type": "code",
   "execution_count": 3,
   "metadata": {},
   "outputs": [],
   "source": [
    "x_train = np.load('dataset/x_train.npy').astype(np.float32)\n",
    "y_train = np.load('dataset/y_train.npy').astype(np.float32)\n",
    "x_val = np.load('dataset/x_val.npy').astype(np.float32)\n",
    "y_val = np.load('dataset/y_val.npy').astype(np.float32)\n"
   ]
  },
  {
   "cell_type": "code",
   "execution_count": 4,
   "metadata": {
    "tags": []
   },
   "outputs": [
    {
     "name": "stdout",
     "output_type": "stream",
     "text": [
      "(2586, 26, 34, 1) (2586, 1)\n",
      "(288, 26, 34, 1) (288, 1)\n"
     ]
    }
   ],
   "source": [
    "print(x_train.shape, y_train.shape)\n",
    "print(x_val.shape, y_val.shape)"
   ]
  },
  {
   "cell_type": "code",
   "execution_count": 5,
   "metadata": {},
   "outputs": [
    {
     "data": {
      "text/plain": [
       "<matplotlib.image.AxesImage at 0x207778743c8>"
      ]
     },
     "execution_count": 5,
     "metadata": {},
     "output_type": "execute_result"
    },
    {
     "data": {
      "image/png": "[encoded data removed]",
      "text/plain": [
       "<Figure size 432x288 with 2 Axes>"
      ]
     },
     "metadata": {},
     "output_type": "display_data"
    }
   ],
   "source": [
    "plt.subplot(2, 1, 1)\n",
    "plt.title(str(y_train[0]))\n",
    "plt.imshow(x_train[0].reshape((26, 34)), cmap='gray')\n",
    "plt.subplot(2, 1, 2)\n",
    "plt.title(str(y_val[4]))\n",
    "plt.imshow(x_val[4].reshape((26, 34)), cmap='gray')"
   ]
  },
  {
   "cell_type": "code",
   "execution_count": 7,
   "metadata": {},
   "outputs": [],
   "source": [
    "train_datagen = ImageDataGenerator(\n",
    "    rescale=1./255,\n",
    "    rotation_range=0.1,\n",
    "    width_shift_range=0.2,\n",
    "    height_shift_range=0.2,\n",
    "    shear_range=0.2\n",
    ")\n",
    "\n",
    "val_datagen = ImageDataGenerator(rescale=1./255)\n",
    "\n",
    "train_generator = train_datagen.flow(\n",
    "    x=x_train, y=y_train,\n",
    "    batch_size=32,\n",
    "    shuffle=True\n",
    ")\n",
    "\n",
    "val_generator = val_datagen.flow(\n",
    "    x=x_val, y=y_val,\n",
    "    batch_size=32,\n",
    "    shuffle=False\n",
    ")"
   ]
  },
  {
   "cell_type": "code",
   "execution_count": 8,
   "metadata": {},
   "outputs": [],
   "source": [
    "image_shape=(26, 34, 1)"
   ]
  },
  {
   "cell_type": "code",
   "execution_count": 17,
   "metadata": {},
   "outputs": [],
   "source": [
    "model = Sequential()\n",
    "\n",
    "model.add(Conv2D(filters=32, kernel_size=(3,3), strides=1, padding='same',input_shape=image_shape, activation='relu',))\n",
    "model.add(MaxPooling2D(pool_size=(2, 2)))\n",
    "\n",
    "model.add(Conv2D(filters=64, kernel_size=(3,3), strides=1, padding='same',input_shape=image_shape, activation='relu',))\n",
    "model.add(MaxPooling2D(pool_size=(2, 2)))\n",
    "\n",
    "model.add(Conv2D(filters=128, kernel_size=(3,3), strides=1, padding='same',input_shape=image_shape, activation='relu',))\n",
    "model.add(MaxPooling2D(pool_size=(2, 2)))\n",
    "\n",
    "model.add(Flatten())\n",
    "\n",
    "model.add(Dense(512))\n",
    "model.add(Activation('relu'))\n",
    "\n",
    "model.add(Dropout(0.5))\n",
    "\n",
    "model.add(Dense(1))\n",
    "model.add(Activation('sigmoid'))\n",
    "\n",
    "model.compile(optimizer='adam', loss='binary_crossentropy', metrics=['acc'])\n",
    "\n"
   ]
  },
  {
   "cell_type": "code",
   "execution_count": 18,
   "metadata": {
    "tags": []
   },
   "outputs": [
    {
     "name": "stdout",
     "output_type": "stream",
     "text": [
      "Model: \"sequential_2\"\n",
      "_________________________________________________________________\n",
      "Layer (type)                 Output Shape              Param #   \n",
      "=================================================================\n",
      "conv2d_6 (Conv2D)            (None, 26, 34, 32)        320       \n",
      "_________________________________________________________________\n",
      "max_pooling2d_6 (MaxPooling2 (None, 13, 17, 32)        0         \n",
      "_________________________________________________________________\n",
      "conv2d_7 (Conv2D)            (None, 13, 17, 64)        18496     \n",
      "_________________________________________________________________\n",
      "max_pooling2d_7 (MaxPooling2 (None, 6, 8, 64)          0         \n",
      "_________________________________________________________________\n",
      "conv2d_8 (Conv2D)            (None, 6, 8, 128)         73856     \n",
      "_________________________________________________________________\n",
      "max_pooling2d_8 (MaxPooling2 (None, 3, 4, 128)         0         \n",
      "_________________________________________________________________\n",
      "flatten_2 (Flatten)          (None, 1536)              0         \n",
      "_________________________________________________________________\n",
      "dense_4 (Dense)              (None, 512)               786944    \n",
      "_________________________________________________________________\n",
      "activation_4 (Activation)    (None, 512)               0         \n",
      "_________________________________________________________________\n",
      "dropout_2 (Dropout)          (None, 512)               0         \n",
      "_________________________________________________________________\n",
      "dense_5 (Dense)              (None, 1)                 513       \n",
      "_________________________________________________________________\n",
      "activation_5 (Activation)    (None, 1)                 0         \n",
      "=================================================================\n",
      "Total params: 880,129\n",
      "Trainable params: 880,129\n",
      "Non-trainable params: 0\n",
      "_________________________________________________________________\n"
     ]
    }
   ],
   "source": [
    "model.summary()"
   ]
  },
  {
   "cell_type": "code",
   "execution_count": 19,
   "metadata": {},
   "outputs": [],
   "source": [
    "from tensorflow.keras.callbacks import EarlyStopping\n",
    "early_stop = EarlyStopping(monitor='val_loss',patience=2)"
   ]
  },
  {
   "cell_type": "code",
   "execution_count": 20,
   "metadata": {
    "tags": []
   },
   "outputs": [
    {
     "name": "stdout",
     "output_type": "stream",
     "text": [
      "Epoch 1/30\n",
      "81/81 [==============================] - 6s 73ms/step - loss: 0.4846 - acc: 0.7467 - val_loss: 0.2716 - val_acc: 0.8924\n",
      "Epoch 2/30\n",
      "81/81 [==============================] - 6s 72ms/step - loss: 0.2828 - acc: 0.8871 - val_loss: 0.1393 - val_acc: 0.9444\n",
      "Epoch 3/30\n",
      "81/81 [==============================] - 6s 73ms/step - loss: 0.2164 - acc: 0.9192 - val_loss: 0.1023 - val_acc: 0.9549\n",
      "Epoch 4/30\n",
      "81/81 [==============================] - 6s 72ms/step - loss: 0.1541 - acc: 0.9466 - val_loss: 0.0681 - val_acc: 0.9722\n",
      "Epoch 5/30\n",
      "81/81 [==============================] - 6s 73ms/step - loss: 0.1484 - acc: 0.9490 - val_loss: 0.0831 - val_acc: 0.9722\n",
      "Epoch 6/30\n",
      "81/81 [==============================] - 6s 73ms/step - loss: 0.1204 - acc: 0.9582 - val_loss: 0.0678 - val_acc: 0.9757\n",
      "Epoch 7/30\n",
      "81/81 [==============================] - 6s 77ms/step - loss: 0.1116 - acc: 0.9590 - val_loss: 0.0663 - val_acc: 0.9826\n",
      "Epoch 8/30\n",
      "81/81 [==============================] - 6s 79ms/step - loss: 0.0899 - acc: 0.9656 - val_loss: 0.0587 - val_acc: 0.9826\n",
      "Epoch 9/30\n",
      "81/81 [==============================] - 7s 81ms/step - loss: 0.0849 - acc: 0.9718 - val_loss: 0.0500 - val_acc: 0.9861\n",
      "Epoch 10/30\n",
      "81/81 [==============================] - 6s 76ms/step - loss: 0.0721 - acc: 0.9733 - val_loss: 0.0450 - val_acc: 0.9861\n",
      "Epoch 11/30\n",
      "81/81 [==============================] - 6s 76ms/step - loss: 0.0613 - acc: 0.9780 - val_loss: 0.0583 - val_acc: 0.9826\n",
      "Epoch 12/30\n",
      "81/81 [==============================] - 6s 78ms/step - loss: 0.0622 - acc: 0.9822 - val_loss: 0.0327 - val_acc: 0.9896\n",
      "Epoch 13/30\n",
      "81/81 [==============================] - 6s 78ms/step - loss: 0.0573 - acc: 0.9799 - val_loss: 0.0373 - val_acc: 0.9792\n",
      "Epoch 14/30\n",
      "81/81 [==============================] - 6s 78ms/step - loss: 0.0533 - acc: 0.9795 - val_loss: 0.0329 - val_acc: 0.9861\n"
     ]
    },
    {
     "data": {
      "text/plain": [
       "<tensorflow.python.keras.callbacks.History at 0x207766abe80>"
      ]
     },
     "execution_count": 20,
     "metadata": {},
     "output_type": "execute_result"
    }
   ],
   "source": [
    "model.fit_generator(train_generator,epochs=30,\n",
    "                              validation_data=val_generator,\n",
    "                             callbacks=[early_stop])"
   ]
  },
  {
   "cell_type": "code",
   "execution_count": 21,
   "metadata": {},
   "outputs": [
    {
     "data": {
      "text/plain": [
       "<matplotlib.axes._subplots.AxesSubplot at 0x20777df9da0>"
      ]
     },
     "execution_count": 21,
     "metadata": {},
     "output_type": "execute_result"
    },
    {
     "data": {
      "image/png": "[encoded data removed]",
      "text/plain": [
       "<Figure size 432x288 with 1 Axes>"
      ]
     },
     "metadata": {},
     "output_type": "display_data"
    }
   ],
   "source": [
    "losses = pd.DataFrame(model.history.history)\n",
    "losses[['loss','val_loss']].plot()"
   ]
  },
  {
   "cell_type": "code",
   "execution_count": 22,
   "metadata": {},
   "outputs": [],
   "source": [
    "from tensorflow.keras.models import load_model \n"
   ]
  },
  {
   "cell_type": "code",
   "execution_count": 23,
   "metadata": {},
   "outputs": [],
   "source": [
    "model.save('blinkdetection_check.h5')"
   ]
  },
  {
   "cell_type": "code",
   "execution_count": 24,
   "metadata": {},
   "outputs": [
    {
     "data": {
      "text/plain": [
       "{'loss': [0.48484768082905627,\n",
       "  0.2829408624885807,\n",
       "  0.21624644560493061,\n",
       "  0.15404141003414354,\n",
       "  0.14806837581057744,\n",
       "  0.12059064681677051,\n",
       "  0.11150422598950548,\n",
       "  0.08982092255045071,\n",
       "  0.08504617565411611,\n",
       "  0.07224183233436096,\n",
       "  0.061341995596655194,\n",
       "  0.062246744079430344,\n",
       "  0.057250559053398896,\n",
       "  0.053354927029659466],\n",
       " 'acc': [0.74671304,\n",
       "  0.8870843,\n",
       "  0.9191802,\n",
       "  0.9466357,\n",
       "  0.9489559,\n",
       "  0.95823663,\n",
       "  0.95901006,\n",
       "  0.9655839,\n",
       "  0.97177106,\n",
       "  0.97331786,\n",
       "  0.97795826,\n",
       "  0.9822119,\n",
       "  0.9798917,\n",
       "  0.979505],\n",
       " 'val_loss': [0.27163683871428174,\n",
       "  0.13934932235214445,\n",
       "  0.10228785789675182,\n",
       "  0.06811818025178379,\n",
       "  0.08312657392687267,\n",
       "  0.06783679996927579,\n",
       "  0.06627840962674883,\n",
       "  0.058672114482356444,\n",
       "  0.0499751903116703,\n",
       "  0.044995800178084105,\n",
       "  0.0583372815615601,\n",
       "  0.032682442002826266,\n",
       "  0.03732249068303241,\n",
       "  0.03288446465093228],\n",
       " 'val_acc': [0.8923611,\n",
       "  0.9444444,\n",
       "  0.9548611,\n",
       "  0.9722222,\n",
       "  0.9722222,\n",
       "  0.9756944,\n",
       "  0.9826389,\n",
       "  0.9826389,\n",
       "  0.9861111,\n",
       "  0.9861111,\n",
       "  0.9826389,\n",
       "  0.9895833,\n",
       "  0.9791667,\n",
       "  0.9861111]}"
      ]
     },
     "execution_count": 24,
     "metadata": {},
     "output_type": "execute_result"
    }
   ],
   "source": [
    "model.history.history\n"
   ]
  },
  {
   "cell_type": "code",
   "execution_count": 29,
   "metadata": {},
   "outputs": [],
   "source": [
    "import cv2\n"
   ]
  },
  {
   "cell_type": "code",
   "execution_count": 30,
   "metadata": {},
   "outputs": [],
   "source": [
    "close=cv2.imread(\"close.JPG\",-1)"
   ]
  },
  {
   "cell_type": "code",
   "execution_count": 31,
   "metadata": {},
   "outputs": [
    {
     "name": "stdout",
     "output_type": "stream",
     "text": [
      "[[ 68  70  71  73  73  76  81  85  96 101 108 116 125 131 134 137 143 143\n",
      "  146 148 144 139 134 129 128 124 120 115 110 107 100  91  82  78]\n",
      " [ 71  72  73  76  78  82  87  91  98 103 109 117 125 131 135 138 144 145\n",
      "  150 152 149 143 137 130 127 123 119 115 110 106 100  92  85  81]\n",
      " [ 72  73  76  80  84  88  92  95  99 104 110 117 125 131 135 139 145 149\n",
      "  155 156 153 148 140 131 124 120 117 114 109 104  97  91  84  80]\n",
      " [ 73  74  77  82  86  90  93  96  99 104 109 115 123 130 135 139 144 149\n",
      "  154 154 151 147 140 130 124 120 118 115 109 102  96  91  84  79]\n",
      " [ 75  75  77  81  84  88  93  97 101 105 109 115 122 128 133 137 139 143\n",
      "  147 146 143 142 137 129 126 121 117 114 107 100  95  91  85  81]\n",
      " [ 78  77  77  79  82  87  93  97 101 105 109 113 118 123 127 132 135 138\n",
      "  140 139 137 137 134 128 124 120 116 111 106 102 100  96  99  96]\n",
      " [ 79  78  77  78  81  85  89  92  96 100 103 106 112 116 120 124 129 131\n",
      "  133 133 131 131 129 123 120 117 115 110 105 102  99  93  90  88]\n",
      " [ 78  77  77  79  82  84  84  84  88  92  96 100 105 109 114 118 123 124\n",
      "  127 127 125 124 121 116 111 110 109 104  97  92  85  76  66  64]\n",
      " [ 76  75  76  77  78  78  79  79  81  87  92  96 102 107 110 112 116 117\n",
      "  118 118 118 116 112 108 104  99  98  92  82  76  71  62  53  51]\n",
      " [ 70  69  69  70  70  70  71  72  76  84  92  97 101 104 105 107 109 111\n",
      "  111 109 108 106 103  99  92  82  77  72  65  65  69  69  65  65]\n",
      " [ 64  63  63  63  63  63  65  67  72  81  88  93  96  98 100 103 105 107\n",
      "  106 101  97  94  89  85  75  66  63  64  64  68  78  85  93  94]\n",
      " [ 61  61  61  61  61  62  64  67  71  79  86  90  93  95  96  99 100 100\n",
      "   98  93  87  82  76  71  62  58  60  66  70  77  88  96  97  97]\n",
      " [ 60  60  61  61  60  61  63  66  69  76  83  86  89  89  87  86  85  83\n",
      "   80  76  73  70  66  62  62  61  63  67  73  82  92  99  98  96]\n",
      " [ 58  58  57  57  55  55  57  60  64  68  69  70  71  72  71  71  66  62\n",
      "   58  57  59  60  60  60  64  67  69  72  78  87  96 100  99  97]\n",
      " [ 51  50  48  47  45  45  46  49  53  54  51  48  50  52  55  58  54  49\n",
      "   47  50  53  54  57  60  65  71  76  81  88  94  97  99  99  97]\n",
      " [ 43  41  39  36  35  35  37  39  41  43  41  39  40  43  47  51  52  47\n",
      "   46  50  53  53  55  60  74  79  85  90  96  99 100 102 101 100]\n",
      " [ 58  48  44  45  42  38  39  41  43  46  48  48  48  50  51  50  51  50\n",
      "   52  55  58  61  66  71  83  96 103 104 106 106 107 110 108 102]\n",
      " [ 87  74  62  55  50  48  47  45  47  49  51  51  52  54  54  53  52  54\n",
      "   58  65  71  77  84  91 100 107 113 116 117 116 114 113 110 102]\n",
      " [114 101  84  69  59  56  55  51  51  52  53  53  55  57  57  56  58  62\n",
      "   70  79  87  95 104 111 115 118 123 126 126 125 121 117 110 102]\n",
      " [123 116 103  84  67  59  57  55  54  54  54  54  57  61  65  67  74  79\n",
      "   88  96 103 109 116 122 122 124 129 131 130 130 126 117 104  97]\n",
      " [125 122 114  98  78  67  64  64  67  69  71  71  74  80  86  90  95 100\n",
      "  109 115 119 121 126 129 128 130 133 134 135 135 125 109  96  91]\n",
      " [127 123 117 108  95  86  85  85  91  94  97  97  98 102 107 110 112 117\n",
      "  124 129 130 131 133 134 135 136 136 136 138 136 119  99  90  88]\n",
      " [130 126 122 118 113 110 111 110 112 114 114 113 113 115 118 120 125 130\n",
      "  135 137 137 137 138 138 140 140 138 136 135 127 110  96  92  90]\n",
      " [134 132 130 127 124 125 127 126 125 125 124 122 123 126 129 130 134 138\n",
      "  142 143 142 141 141 142 142 143 140 135 129 116 104  99  95  93]\n",
      " [135 135 135 135 134 133 134 136 134 133 134 134 134 136 140 140 144 147\n",
      "  149 149 150 151 149 146 145 144 140 132 122 111 103  97  98  97]\n",
      " [136 137 139 141 141 141 142 144 144 143 144 144 144 146 149 150 151 153\n",
      "  155 156 157 157 156 152 147 145 139 130 119 110 103  99  98  97]]\n"
     ]
    }
   ],
   "source": [
    "print(close)"
   ]
  },
  {
   "cell_type": "code",
   "execution_count": 32,
   "metadata": {},
   "outputs": [
    {
     "name": "stdout",
     "output_type": "stream",
     "text": [
      "(26, 34)\n"
     ]
    }
   ],
   "source": [
    "print(close.shape)"
   ]
  },
  {
   "cell_type": "code",
   "execution_count": null,
   "metadata": {},
   "outputs": [],
   "source": []
  }
 ],
 "metadata": {
  "kernelspec": {
   "display_name": "Python 3",
   "language": "python",
   "name": "python3"
  },
  "language_info": {
   "codemirror_mode": {
    "name": "ipython",
    "version": 3
   },
   "file_extension": ".py",
   "mimetype": "text/x-python",
   "name": "python",
   "nbconvert_exporter": "python",
   "pygments_lexer": "ipython3",
   "version": "3.6.10"
  }
 },
 "nbformat": 4,
 "nbformat_minor": 4
}